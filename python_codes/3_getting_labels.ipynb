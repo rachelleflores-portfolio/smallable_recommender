{
 "cells": [
  {
   "cell_type": "markdown",
   "metadata": {},
   "source": [
    "# Getting Product Labels"
   ]
  },
  {
   "cell_type": "markdown",
   "metadata": {},
   "source": [
    "## IMPORT LIBRARIES"
   ]
  },
  {
   "cell_type": "code",
   "execution_count": 87,
   "metadata": {},
   "outputs": [],
   "source": [
    "import pandas as pd\n",
    "import numpy as np"
   ]
  },
  {
   "cell_type": "markdown",
   "metadata": {},
   "source": [
    "## LOAD DATASETS"
   ]
  },
  {
   "cell_type": "code",
   "execution_count": 88,
   "metadata": {},
   "outputs": [],
   "source": [
    "women = pd.read_csv(r'./../data/cleaned_data/womens_collection.csv')\n",
    "men = pd.read_csv(r'./../data/cleaned_data/mens_collection.csv')"
   ]
  },
  {
   "cell_type": "markdown",
   "metadata": {},
   "source": [
    "## FUNCTION TO EXTRACT LABEL FROM PRODUCT DESCRIPTION"
   ]
  },
  {
   "cell_type": "markdown",
   "metadata": {},
   "source": [
    "> There will be 12 different labels applied to the datasets:\n",
    "> 1. jewelry\n",
    "> \n",
    "> 2. hair accessory\n",
    "> \n",
    "> 3. accessories\n",
    "> \n",
    "> 4. bags\n",
    "> \n",
    "> 5. swimsuit\n",
    "> \n",
    "> 6. underwear\n",
    "> \n",
    "> 7. sleepwear\n",
    "> \n",
    "> 8. top\n",
    "> \n",
    "> 9. bottom\n",
    "> \n",
    "> 10. dress\n",
    "> \n",
    "> 11. overalls\n",
    "> \n",
    "> 12. coat"
   ]
  },
  {
   "cell_type": "markdown",
   "metadata": {},
   "source": [
    "> **The actual product categories will also be scraped from the website but because this entails getting information from each individual product link, it takes quite some time to obtain. In order to move on to the next steps, we will temporarily use labels taken from the product details column.**"
   ]
  },
  {
   "cell_type": "code",
   "execution_count": 90,
   "metadata": {},
   "outputs": [],
   "source": [
    "# lists of items per label/category\n",
    "jewelry = [\"medallion\", \"hoops\", \"watch\", \"cuff\", \"pearl\", \"pearly\", \"pendant\", \"bracelet\", \"bracelets\", \"earring\", \"earrings\", \"chain\", \"necklace\", \"phone accessory\", \"strap\", \"leash\", \"ring\", \"rings\"]\n",
    "hair_accessory = [\"hair clip\", \"headband\", \"scrunchie\", \"scrunchies\", \"barrettes\", \"claw\", \"katla\", \"hairclip\", \"chouchou\", \"bandana\", \"bandeau\", \"hair\"]\n",
    "accessories = [\"docker\", \"umbrella\", \"bangle\", \"mat\", \"tapis\", \"fan\", \"glasses\", \"sunglasses\", \"hat\", \"cap\", \"casquette\", \"bonnet\", \"cagoule\", \"balaclava\", \"berret\", \"beret\", \"belt\", \"ceinture\", \"beanie\", \"mitten\", \"mittens\", \"gloves\", \"scarf\", \"foulard\", \"echarpe\", \"warmer\", \"snood\", \"socks\", \"chaussettes\"]\n",
    "bags = [\"trousse\", \"panier\", \"pochette\", \"tote\", \"totebag\", \"purse\", \"backpack\", \"sac a dos\", \"bag\", \"banane\", \"sac\", \"basket\", \"portefeuille\", \"porte carte\", \"wallet\", \"cabas\", \"pouch\", \"bumbag\", \"clutch\", \"pack\", \"handbag\", \"pencil case\", \"case\"]\n",
    "\n",
    "swimsuit = [\"swimsuit\", \"bikini\", \"short de bain\", \"swim shorts\", \"trunks\", \"maillot\"]\n",
    "underwear = [\"underwear\", \"thong\", \"panty\", \"panties\", \"bustier\", \"soutien-gorge\", \"bra\", \"briefs\", \"body\", \"brassiere\", \"bodysuit\", \"tanga\",  \"culotte\", \"caleçon\", \"boxer\", \"thongs\", \"knickers\", \"g-strings\"]\n",
    "sleepwear = [\"nightgown\", \"pyjama\", \"pyjamas\", \"mask\", \"sleepdress\", \"kimono\"]\n",
    "\n",
    "top = [\"overshirt\", \"polo\", \"t-shirt\", \"debardeur\", \"blouse\", \"shirt\", \"cardigan\", \"top\", \"pull\", \"jumper\", \"sweater\", \"pullover\", \"chemise\", \"hoodie\", \"sweat\", \"fleece\", \"gilet\", \"sweatshirt\", \"sweatshirts\"]\n",
    "bottom = [\"jupe\", \"bermuda\", \"pants\", \"skirt\", \"skirts\", \"pantskirt\", \"short\", \"shorts\", \"pantalon\", \"jean\", \"jeans\", \"legging\", \"leggings\", \"joggers\", \"jogger\", \"sweatpants\", \"jogging\", \"trousers\"]\n",
    "dress= [\"dress\", \"robe\", \"sundress\"]\n",
    "overalls = [\"jumpsuit\", \"overall\", \"overalls\", \"playsuit\"]\n",
    "coat = [\"windcheater\", \"coat\", \"jacket\", \"parka\", \"manteau\", \"raincoat\", \"trench\", \"cape\", \"rain\", \"doudoune\", \"blouson\", \"veste\", \"windbreaker\", \"coupe-vent\", \"blazer\", \"vest\"]"
   ]
  },
  {
   "cell_type": "code",
   "execution_count": 115,
   "metadata": {},
   "outputs": [],
   "source": [
    "# function to extract labels\n",
    "def extract_label(df):\n",
    "    \"\"\"This function will use the lists provided above to extract the category of a product using the product column of the dataframe.\n",
    "    Depending on the percentage of the data lost during the process, we will either review the list or proceed with the dataset acquired.\"\"\"\n",
    "    \n",
    "    categories = [coat, jewelry, hair_accessory, accessories, bags, swimsuit, underwear, sleepwear, top, bottom, dress, overalls]\n",
    "    labels = [\"coat\", \"jewelry\", \"hair_accessory\", \"accessories\", \"bags\", \"swimsuit\", \"underwear\", \"sleepwear\", \"top\", \"bottom\", \"dress\", \"overalls\"]\n",
    "    \n",
    "    # empty lists to store the data\n",
    "    index = []\n",
    "    label = []\n",
    "    \n",
    "    for ind in df.index:\n",
    "        found = False # Flag to track if condition is satisfied\n",
    "        for i in df['product'][ind].split(): # the product column contains phrases per row so this is to split them into words\n",
    "            for c, l in zip(categories, labels):\n",
    "                if i in c:\n",
    "                    index.append(f\"{ind}\") # index number\n",
    "                    label.append(l) # category label taken\n",
    "                    found = True \n",
    "                    break # move on to the next row and avoid duplicates\n",
    "\n",
    "            if found: # check if flag is True\n",
    "                break\n",
    "            \n",
    "        if not found:\n",
    "            index.append(f\"{ind}\")\n",
    "            label.append(np.nan) # fill missing labels with NaN\n",
    "    \n",
    "    # create new label column \n",
    "    df['label'] = label\n",
    "    missing = df[df.label.isna()==True]\n",
    "    print(round((len(missing)/len(df))*100, 2), \"% missing labels :\",len(missing))\n",
    "    \n",
    "    return df, missing"
   ]
  },
  {
   "cell_type": "code",
   "execution_count": 92,
   "metadata": {},
   "outputs": [
    {
     "name": "stdout",
     "output_type": "stream",
     "text": [
      "2.22 % missing labels : 163\n"
     ]
    }
   ],
   "source": [
    "# women's collection\n",
    "women_labelled, women_missing = extract_label(women)"
   ]
  },
  {
   "cell_type": "code",
   "execution_count": 93,
   "metadata": {},
   "outputs": [],
   "source": [
    "# reset index\n",
    "women_labelled.reset_index(drop=True, inplace=True)"
   ]
  },
  {
   "cell_type": "code",
   "execution_count": 94,
   "metadata": {},
   "outputs": [],
   "source": [
    "#women_labelled.to_csv('women_labels.csv', index=False)"
   ]
  },
  {
   "cell_type": "code",
   "execution_count": 95,
   "metadata": {},
   "outputs": [
    {
     "name": "stdout",
     "output_type": "stream",
     "text": [
      "2.7 % missing labels : 43\n"
     ]
    }
   ],
   "source": [
    "#men's collection\n",
    "men_labelled, men_missing = extract_label(men)"
   ]
  },
  {
   "cell_type": "code",
   "execution_count": 96,
   "metadata": {},
   "outputs": [],
   "source": [
    "# reset index\n",
    "men_labelled.reset_index(drop=True, inplace=True)"
   ]
  },
  {
   "cell_type": "code",
   "execution_count": 97,
   "metadata": {},
   "outputs": [],
   "source": [
    "#men_labelled.to_csv('men_labels.csv', index=False)"
   ]
  },
  {
   "cell_type": "code",
   "execution_count": 98,
   "metadata": {},
   "outputs": [],
   "source": [
    "women_labelled[\"gender\"] = \"w\""
   ]
  },
  {
   "cell_type": "code",
   "execution_count": 99,
   "metadata": {},
   "outputs": [],
   "source": [
    "men_labelled[\"gender\"] = \"m\""
   ]
  },
  {
   "cell_type": "code",
   "execution_count": 100,
   "metadata": {},
   "outputs": [],
   "source": [
    "all = pd.concat([women_labelled, men_labelled])"
   ]
  },
  {
   "cell_type": "code",
   "execution_count": 101,
   "metadata": {},
   "outputs": [
    {
     "data": {
      "text/plain": [
       "link            0\n",
       "img             0\n",
       "product         0\n",
       "color           0\n",
       "brand           0\n",
       "greenable       0\n",
       "discounted      0\n",
       "disc_price      0\n",
       "orig_price      0\n",
       "collection      0\n",
       "label         206\n",
       "gender          0\n",
       "dtype: int64"
      ]
     },
     "execution_count": 101,
     "metadata": {},
     "output_type": "execute_result"
    }
   ],
   "source": [
    "all.isna().sum()"
   ]
  },
  {
   "cell_type": "code",
   "execution_count": 102,
   "metadata": {},
   "outputs": [
    {
     "data": {
      "text/plain": [
       "1"
      ]
     },
     "execution_count": 102,
     "metadata": {},
     "output_type": "execute_result"
    }
   ],
   "source": [
    "all.duplicated().sum()"
   ]
  },
  {
   "cell_type": "code",
   "execution_count": 103,
   "metadata": {},
   "outputs": [
    {
     "data": {
      "text/html": [
       "<div>\n",
       "<style scoped>\n",
       "    .dataframe tbody tr th:only-of-type {\n",
       "        vertical-align: middle;\n",
       "    }\n",
       "\n",
       "    .dataframe tbody tr th {\n",
       "        vertical-align: top;\n",
       "    }\n",
       "\n",
       "    .dataframe thead th {\n",
       "        text-align: right;\n",
       "    }\n",
       "</style>\n",
       "<table border=\"1\" class=\"dataframe\">\n",
       "  <thead>\n",
       "    <tr style=\"text-align: right;\">\n",
       "      <th></th>\n",
       "      <th>link</th>\n",
       "      <th>img</th>\n",
       "      <th>product</th>\n",
       "      <th>color</th>\n",
       "      <th>brand</th>\n",
       "      <th>greenable</th>\n",
       "      <th>discounted</th>\n",
       "      <th>disc_price</th>\n",
       "      <th>orig_price</th>\n",
       "      <th>collection</th>\n",
       "      <th>label</th>\n",
       "      <th>gender</th>\n",
       "    </tr>\n",
       "  </thead>\n",
       "  <tbody>\n",
       "    <tr>\n",
       "      <th>5332</th>\n",
       "      <td>/en/product/sac-billy-nano-taureau-raspberry-r...</td>\n",
       "      <td>https://static.smallable.com/1701061-648x648q8...</td>\n",
       "      <td>sac billy nano taureau</td>\n",
       "      <td>raspberry red</td>\n",
       "      <td>jérôme dreyfuss</td>\n",
       "      <td>1</td>\n",
       "      <td>0</td>\n",
       "      <td>670.0</td>\n",
       "      <td>670.0</td>\n",
       "      <td>fw</td>\n",
       "      <td>bags</td>\n",
       "      <td>w</td>\n",
       "    </tr>\n",
       "  </tbody>\n",
       "</table>\n",
       "</div>"
      ],
      "text/plain": [
       "                                                   link   \n",
       "5332  /en/product/sac-billy-nano-taureau-raspberry-r...  \\\n",
       "\n",
       "                                                    img   \n",
       "5332  https://static.smallable.com/1701061-648x648q8...  \\\n",
       "\n",
       "                     product          color            brand  greenable   \n",
       "5332  sac billy nano taureau  raspberry red  jérôme dreyfuss          1  \\\n",
       "\n",
       "      discounted  disc_price  orig_price collection label gender  \n",
       "5332           0       670.0       670.0         fw  bags      w  "
      ]
     },
     "execution_count": 103,
     "metadata": {},
     "output_type": "execute_result"
    }
   ],
   "source": [
    "all[all.duplicated()]"
   ]
  },
  {
   "cell_type": "code",
   "execution_count": 104,
   "metadata": {},
   "outputs": [],
   "source": [
    "all.drop_duplicates(inplace=True)"
   ]
  },
  {
   "cell_type": "markdown",
   "metadata": {},
   "source": [
    "> **NOTE: There are probably more duplicates to be found. We will check them in more detail later on.**"
   ]
  },
  {
   "cell_type": "code",
   "execution_count": 105,
   "metadata": {},
   "outputs": [],
   "source": [
    "all_collection = all.dropna()"
   ]
  },
  {
   "cell_type": "code",
   "execution_count": 106,
   "metadata": {},
   "outputs": [],
   "source": [
    "all_collection.reset_index(drop=True, inplace=True)"
   ]
  },
  {
   "cell_type": "code",
   "execution_count": 107,
   "metadata": {},
   "outputs": [
    {
     "name": "stdout",
     "output_type": "stream",
     "text": [
      "<class 'pandas.core.frame.DataFrame'>\n",
      "RangeIndex: 8735 entries, 0 to 8734\n",
      "Data columns (total 12 columns):\n",
      " #   Column      Non-Null Count  Dtype  \n",
      "---  ------      --------------  -----  \n",
      " 0   link        8735 non-null   object \n",
      " 1   img         8735 non-null   object \n",
      " 2   product     8735 non-null   object \n",
      " 3   color       8735 non-null   object \n",
      " 4   brand       8735 non-null   object \n",
      " 5   greenable   8735 non-null   int64  \n",
      " 6   discounted  8735 non-null   int64  \n",
      " 7   disc_price  8735 non-null   float64\n",
      " 8   orig_price  8735 non-null   float64\n",
      " 9   collection  8735 non-null   object \n",
      " 10  label       8735 non-null   object \n",
      " 11  gender      8735 non-null   object \n",
      "dtypes: float64(2), int64(2), object(8)\n",
      "memory usage: 819.0+ KB\n"
     ]
    }
   ],
   "source": [
    "all_collection.info()"
   ]
  },
  {
   "cell_type": "code",
   "execution_count": 108,
   "metadata": {},
   "outputs": [],
   "source": [
    "#all_collection.to_csv(\"all_collection.csv\", index=False)"
   ]
  }
 ],
 "metadata": {
  "kernelspec": {
   "display_name": "Python 3",
   "language": "python",
   "name": "python3"
  },
  "language_info": {
   "codemirror_mode": {
    "name": "ipython",
    "version": 3
   },
   "file_extension": ".py",
   "mimetype": "text/x-python",
   "name": "python",
   "nbconvert_exporter": "python",
   "pygments_lexer": "ipython3",
   "version": "3.11.4"
  },
  "orig_nbformat": 4
 },
 "nbformat": 4,
 "nbformat_minor": 2
}
