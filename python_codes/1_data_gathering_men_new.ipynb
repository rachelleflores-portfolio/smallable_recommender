{
 "cells": [
  {
   "cell_type": "markdown",
   "metadata": {},
   "source": [
    "# Web scraping to gather data: Men's New Collection"
   ]
  },
  {
   "cell_type": "markdown",
   "metadata": {},
   "source": [
    "> - Using the smallable website, men's and women's products will be scraped to prepare for creating a clothing and accessories recommendation."
   ]
  },
  {
   "cell_type": "code",
   "execution_count": 17,
   "metadata": {},
   "outputs": [],
   "source": [
    "# try to webscrap smallable\n",
    "import pandas as pd\n",
    "import numpy as np\n",
    "from bs4 import BeautifulSoup\n",
    "import requests\n",
    "from time import sleep\n",
    "import random"
   ]
  },
  {
   "cell_type": "code",
   "execution_count": 18,
   "metadata": {},
   "outputs": [],
   "source": [
    "m_new = f\"https://www.smallable.com/en/fashion/adult/man?_collection=new-collection\""
   ]
  },
  {
   "cell_type": "code",
   "execution_count": 19,
   "metadata": {},
   "outputs": [
    {
     "name": "stdout",
     "output_type": "stream",
     "text": [
      "Response for men's new collection : 200\n",
      "I will sleep for 4 seconds.\n"
     ]
    }
   ],
   "source": [
    "# dataframe where all results will be stored\n",
    "mens_new = pd.DataFrame()\n",
    "\n",
    "# webscrapping single page\n",
    "r = requests.get(m_new)\n",
    "print(f\"Response for men's new collection :\", r.status_code)\n",
    "soup = BeautifulSoup(r.content, 'html.parser')\n",
    "\n",
    "#empty lists\n",
    "link = []\n",
    "img = []\n",
    "tags = []\n",
    "brand = []\n",
    "product_color = []\n",
    "price_euro = []\n",
    "#scrapping infos from site\n",
    "for i in soup.find_all('a', attrs={\"class\": \"ProductCard_content__fBfLV\"}):\n",
    "    link.append(i.get(\"href\")) #link to product\n",
    "    img.append(i.select('img')[1].get(\"src\")) # photo link\n",
    "    tags.append(i.find(\"div\", attrs = {\"class\" : \"ProductTags_container__3cc_M\"}).get_text(strip = True, separator = \"|\"))\n",
    "for i in soup.find_all('ul', attrs={\"class\": \"ProductCard_attr__2e2YT\"}):\n",
    "    brand.append(i.select(\"li\")[0].get_text(strip = True)) #brand name\n",
    "    product_color.append(i.select(\"li\")[1].get_text(strip = True)) #product | color\n",
    "    price_euro.append(i.select(\"li\")[2].get_text(strip = True, separator = \"|\")) #price\n",
    "\n",
    "new_df = pd.DataFrame(list(zip(link, img, tags, brand, product_color, price_euro)),columns=(\"link\", \"img\", \"tags\", \"brand\", \"product_color\", \"price_euro\"))\n",
    "# store everything in the previously prepared df and concatenate new results from new webpages\n",
    "mens_new = pd.concat([mens_new, new_df])\n",
    "\n",
    "wait_time = random.randint(2,7)\n",
    "print(\"I will sleep for \" + str(wait_time) + \" seconds.\")\n",
    "sleep(wait_time) #Script will be stopped for a period of time ranging from 2 to 7 seconds"
   ]
  },
  {
   "cell_type": "code",
   "execution_count": 20,
   "metadata": {},
   "outputs": [],
   "source": [
    "mens_new.to_csv('mens_new.csv', index=False)"
   ]
  },
  {
   "cell_type": "code",
   "execution_count": 21,
   "metadata": {},
   "outputs": [
    {
     "data": {
      "text/plain": [
       "0"
      ]
     },
     "execution_count": 21,
     "metadata": {},
     "output_type": "execute_result"
    }
   ],
   "source": [
    "mens_new.duplicated().sum()"
   ]
  },
  {
   "cell_type": "code",
   "execution_count": 22,
   "metadata": {},
   "outputs": [
    {
     "data": {
      "text/html": [
       "<div>\n",
       "<style scoped>\n",
       "    .dataframe tbody tr th:only-of-type {\n",
       "        vertical-align: middle;\n",
       "    }\n",
       "\n",
       "    .dataframe tbody tr th {\n",
       "        vertical-align: top;\n",
       "    }\n",
       "\n",
       "    .dataframe thead th {\n",
       "        text-align: right;\n",
       "    }\n",
       "</style>\n",
       "<table border=\"1\" class=\"dataframe\">\n",
       "  <thead>\n",
       "    <tr style=\"text-align: right;\">\n",
       "      <th></th>\n",
       "      <th>link</th>\n",
       "      <th>img</th>\n",
       "      <th>tags</th>\n",
       "      <th>brand</th>\n",
       "      <th>product_color</th>\n",
       "      <th>price_euro</th>\n",
       "    </tr>\n",
       "  </thead>\n",
       "  <tbody>\n",
       "    <tr>\n",
       "      <th>0</th>\n",
       "      <td>/en/product/alias-jumper-navy-blue-daily-paper...</td>\n",
       "      <td>https://static.smallable.com/1239178-648x648q8...</td>\n",
       "      <td>Promotion</td>\n",
       "      <td>Daily Paper</td>\n",
       "      <td>Alias Jumper  | Navy blue</td>\n",
       "      <td>€45.00|€90.00|-50%</td>\n",
       "    </tr>\n",
       "    <tr>\n",
       "      <th>1</th>\n",
       "      <td>/en/product/sid-chino-trousers-navy-blue-carha...</td>\n",
       "      <td>https://static.smallable.com/1297832-648x648q8...</td>\n",
       "      <td>Sale</td>\n",
       "      <td>Carhartt WIP</td>\n",
       "      <td>Sid Chino Trousers | Navy blue</td>\n",
       "      <td>€44.50|€89.00|-50%</td>\n",
       "    </tr>\n",
       "    <tr>\n",
       "      <th>2</th>\n",
       "      <td>/en/product/hooded-windbreaker-adult-collectio...</td>\n",
       "      <td>https://static.smallable.com/1351631-648x648q8...</td>\n",
       "      <td>Promotion|Greenable</td>\n",
       "      <td>Patagonia</td>\n",
       "      <td>Hooded Windbreaker - Adult Collection  | Elect...</td>\n",
       "      <td>€65.00|€130.00|-50%</td>\n",
       "    </tr>\n",
       "    <tr>\n",
       "      <th>3</th>\n",
       "      <td>/en/product/two-tone-zip-up-jacket-adult-colle...</td>\n",
       "      <td>https://static.smallable.com/1353407-648x648q8...</td>\n",
       "      <td>Promotion|Greenable</td>\n",
       "      <td>Patagonia</td>\n",
       "      <td>Two-Tone Zip-Up Jacket - Adult Collection  | N...</td>\n",
       "      <td>€85.00|€170.00|-50%</td>\n",
       "    </tr>\n",
       "    <tr>\n",
       "      <th>4</th>\n",
       "      <td>/en/product/le-vrai-claude-3-0-k-way-raincoat-...</td>\n",
       "      <td>https://static.smallable.com/1325584-648x648q8...</td>\n",
       "      <td>Promotion</td>\n",
       "      <td>K-way</td>\n",
       "      <td>Le Vrai Claude 3.0 K-Way Raincoat - Men’s Coll...</td>\n",
       "      <td>€60.00|€120.00|-50%|11 colours</td>\n",
       "    </tr>\n",
       "    <tr>\n",
       "      <th>5</th>\n",
       "      <td>/en/product/jumper-adult-collection-grey-patag...</td>\n",
       "      <td>https://static.smallable.com/1320170-648x648q8...</td>\n",
       "      <td>Promotion|Greenable</td>\n",
       "      <td>Patagonia</td>\n",
       "      <td>Jumper - Adult Collection  | Grey</td>\n",
       "      <td>€65.00|€130.00|-50%</td>\n",
       "    </tr>\n",
       "    <tr>\n",
       "      <th>6</th>\n",
       "      <td>/en/product/polar-fleece-zip-up-sweatshirt-adu...</td>\n",
       "      <td>https://static.smallable.com/1320185-648x648q8...</td>\n",
       "      <td>Promotion|Greenable</td>\n",
       "      <td>Patagonia</td>\n",
       "      <td>Polar Fleece Zip-Up Sweatshirt - Adult Collect...</td>\n",
       "      <td>€55.00|€110.00|-50%|3 colours</td>\n",
       "    </tr>\n",
       "    <tr>\n",
       "      <th>7</th>\n",
       "      <td>/en/product/madison-sunglasses-adult-collectio...</td>\n",
       "      <td>https://static.smallable.com/1201460-648x648q8...</td>\n",
       "      <td></td>\n",
       "      <td>Komono</td>\n",
       "      <td>Madison Sunglasses - Adult Collection -   | Blue</td>\n",
       "      <td>€49.00|4 colours</td>\n",
       "    </tr>\n",
       "    <tr>\n",
       "      <th>8</th>\n",
       "      <td>/en/product/sue-sunglasses-adult-collection-gr...</td>\n",
       "      <td>https://static.smallable.com/1201445-648x648q8...</td>\n",
       "      <td></td>\n",
       "      <td>Komono</td>\n",
       "      <td>Sue Sunglasses - Adult Collection -   | Grey</td>\n",
       "      <td>€59.00</td>\n",
       "    </tr>\n",
       "    <tr>\n",
       "      <th>9</th>\n",
       "      <td>/en/product/mohave-plain-bag-green-element-213741</td>\n",
       "      <td>https://static.smallable.com/1209522-648x648q8...</td>\n",
       "      <td>Promotion</td>\n",
       "      <td>Element</td>\n",
       "      <td>Mohave Plain Bag  | Green</td>\n",
       "      <td>€32.00|€64.00|-50%</td>\n",
       "    </tr>\n",
       "    <tr>\n",
       "      <th>10</th>\n",
       "      <td>/en/product/janis-sunglasses-adult-collection-...</td>\n",
       "      <td>https://static.smallable.com/1201478-648x648q8...</td>\n",
       "      <td></td>\n",
       "      <td>Komono</td>\n",
       "      <td>Janis Sunglasses - Adult Collection -   | Blue</td>\n",
       "      <td>€59.00</td>\n",
       "    </tr>\n",
       "  </tbody>\n",
       "</table>\n",
       "</div>"
      ],
      "text/plain": [
       "                                                 link   \n",
       "0   /en/product/alias-jumper-navy-blue-daily-paper...  \\\n",
       "1   /en/product/sid-chino-trousers-navy-blue-carha...   \n",
       "2   /en/product/hooded-windbreaker-adult-collectio...   \n",
       "3   /en/product/two-tone-zip-up-jacket-adult-colle...   \n",
       "4   /en/product/le-vrai-claude-3-0-k-way-raincoat-...   \n",
       "5   /en/product/jumper-adult-collection-grey-patag...   \n",
       "6   /en/product/polar-fleece-zip-up-sweatshirt-adu...   \n",
       "7   /en/product/madison-sunglasses-adult-collectio...   \n",
       "8   /en/product/sue-sunglasses-adult-collection-gr...   \n",
       "9   /en/product/mohave-plain-bag-green-element-213741   \n",
       "10  /en/product/janis-sunglasses-adult-collection-...   \n",
       "\n",
       "                                                  img                 tags   \n",
       "0   https://static.smallable.com/1239178-648x648q8...            Promotion  \\\n",
       "1   https://static.smallable.com/1297832-648x648q8...                 Sale   \n",
       "2   https://static.smallable.com/1351631-648x648q8...  Promotion|Greenable   \n",
       "3   https://static.smallable.com/1353407-648x648q8...  Promotion|Greenable   \n",
       "4   https://static.smallable.com/1325584-648x648q8...            Promotion   \n",
       "5   https://static.smallable.com/1320170-648x648q8...  Promotion|Greenable   \n",
       "6   https://static.smallable.com/1320185-648x648q8...  Promotion|Greenable   \n",
       "7   https://static.smallable.com/1201460-648x648q8...                        \n",
       "8   https://static.smallable.com/1201445-648x648q8...                        \n",
       "9   https://static.smallable.com/1209522-648x648q8...            Promotion   \n",
       "10  https://static.smallable.com/1201478-648x648q8...                        \n",
       "\n",
       "           brand                                      product_color   \n",
       "0    Daily Paper                          Alias Jumper  | Navy blue  \\\n",
       "1   Carhartt WIP                     Sid Chino Trousers | Navy blue   \n",
       "2      Patagonia  Hooded Windbreaker - Adult Collection  | Elect...   \n",
       "3      Patagonia  Two-Tone Zip-Up Jacket - Adult Collection  | N...   \n",
       "4          K-way  Le Vrai Claude 3.0 K-Way Raincoat - Men’s Coll...   \n",
       "5      Patagonia                  Jumper - Adult Collection  | Grey   \n",
       "6      Patagonia  Polar Fleece Zip-Up Sweatshirt - Adult Collect...   \n",
       "7         Komono   Madison Sunglasses - Adult Collection -   | Blue   \n",
       "8         Komono       Sue Sunglasses - Adult Collection -   | Grey   \n",
       "9        Element                          Mohave Plain Bag  | Green   \n",
       "10        Komono     Janis Sunglasses - Adult Collection -   | Blue   \n",
       "\n",
       "                        price_euro  \n",
       "0               €45.00|€90.00|-50%  \n",
       "1               €44.50|€89.00|-50%  \n",
       "2              €65.00|€130.00|-50%  \n",
       "3              €85.00|€170.00|-50%  \n",
       "4   €60.00|€120.00|-50%|11 colours  \n",
       "5              €65.00|€130.00|-50%  \n",
       "6    €55.00|€110.00|-50%|3 colours  \n",
       "7                 €49.00|4 colours  \n",
       "8                           €59.00  \n",
       "9               €32.00|€64.00|-50%  \n",
       "10                          €59.00  "
      ]
     },
     "execution_count": 22,
     "metadata": {},
     "output_type": "execute_result"
    }
   ],
   "source": [
    "mens_new"
   ]
  }
 ],
 "metadata": {
  "kernelspec": {
   "display_name": "Python 3",
   "language": "python",
   "name": "python3"
  },
  "language_info": {
   "codemirror_mode": {
    "name": "ipython",
    "version": 3
   },
   "file_extension": ".py",
   "mimetype": "text/x-python",
   "name": "python",
   "nbconvert_exporter": "python",
   "pygments_lexer": "ipython3",
   "version": "3.11.4"
  },
  "orig_nbformat": 4
 },
 "nbformat": 4,
 "nbformat_minor": 2
}
